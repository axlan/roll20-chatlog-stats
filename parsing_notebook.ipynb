{
 "metadata": {
  "language_info": {
   "codemirror_mode": {
    "name": "ipython",
    "version": 3
   },
   "file_extension": ".py",
   "mimetype": "text/x-python",
   "name": "python",
   "nbconvert_exporter": "python",
   "pygments_lexer": "ipython3",
   "version": "3.8.6-final"
  },
  "orig_nbformat": 2,
  "kernelspec": {
   "name": "python386jvsc74a57bd00683780d03ee1195a9e1ac19e401b8f6c3447ee82d0b15d335dacfb764b91f68",
   "display_name": "Python 3.8.6 64-bit"
  }
 },
 "nbformat": 4,
 "nbformat_minor": 2,
 "cells": [
  {
   "cell_type": "code",
   "execution_count": null,
   "metadata": {},
   "outputs": [],
   "source": [
    "from bs4 import BeautifulSoup\n",
    "\n",
    "# https://app.roll20.net/campaigns/chatarchive/8981579?p=1&onePage=true&hidewhispers=&hiderollresults=\n",
    "# save page\n",
    "\n",
    "# (pagenate https://app.roll20.net/campaigns/chatarchive/8981579?p=1 with cache?)\n",
    "# annoying data seems to come from graphql responses\n",
    "with open('data/Chat Log for Kingdom of Dust.html', mode='r', encoding=\"utf8\") as fd:\n",
    "    html_doc = fd.read()\n",
    "\n",
    "soup = BeautifulSoup(html_doc, 'html.parser')"
   ]
  },
  {
   "cell_type": "code",
   "execution_count": null,
   "metadata": {},
   "outputs": [],
   "source": [
    "\n",
    "messages = soup.find_all('div', 'message')\n",
    "\n",
    "print(len(messages))\n",
    "\n"
   ]
  },
  {
   "cell_type": "code",
   "execution_count": null,
   "metadata": {
    "tags": []
   },
   "outputs": [],
   "source": [
    "from dateutil.parser import parse\n",
    "\n",
    "current_time = None\n",
    "timestamps = []\n",
    "for message in messages:\n",
    "    tstamp = message.find(class_='tstamp')\n",
    "    if tstamp:\n",
    "        current_time = parse(tstamp.string)\n",
    "    timestamps.append(current_time)\n",
    "\n",
    "print(timestamps[-20:])"
   ]
  },
  {
   "cell_type": "code",
   "execution_count": null,
   "metadata": {},
   "outputs": [],
   "source": [
    "has_roll = []\n",
    "for message in messages:\n",
    "    has_roll.append(message.find(class_='inlinerollresult') is not None)\n",
    "\n",
    "print(len([i for i in has_roll if i ]))\n",
    "\n",
    "roll_timestamps = [timestamp for i, timestamp in zip(has_roll, timestamps) if i ]\n",
    "roll_msgs = [message for i, message, in zip(has_roll, messages) if i ]\n",
    "\n"
   ]
  },
  {
   "cell_type": "code",
   "execution_count": null,
   "metadata": {
    "tags": []
   },
   "outputs": [],
   "source": [
    "import re\n",
    "characters = []\n",
    "roll_types = []\n",
    "rolls = []\n",
    "d20_rolls = []\n",
    "\n",
    "roll_re = re.compile(r'\">([0-9]+)</span>')\n",
    "\n",
    "for message in roll_msgs:\n",
    "    \n",
    "    roll_group = message.find(class_='sheet-rolltemplate-rolls')\n",
    "\n",
    "    character = roll_group.find(class_='sheet-charactername').string\n",
    "    characters.append(character)\n",
    "    roll_type = roll_group.find(class_='sheet-template-header').get_text().strip().replace('\\n      ', ': ')\n",
    "    roll_types.append(roll_type)\n",
    "\n",
    "    this_rolls = []\n",
    "    d20_roll = None\n",
    "\n",
    "    for roll in roll_group.find_all('span', class_='inlinerollresult'):\n",
    "\n",
    "        if 'original-title' in roll.attrs:\n",
    "            roll_txt = roll['original-title']\n",
    "        else:\n",
    "            roll_txt = roll['title']\n",
    "        this_rolls.append(roll_txt)\n",
    "        if d20_roll is None and '1d20' in roll_txt:\n",
    "            d20_roll = int(roll_re.search(roll_txt).group(1))\n",
    "\n",
    "    rolls.append(this_rolls)\n",
    "    d20_rolls.append(d20_roll)\n",
    "\n",
    "print(characters[:10])\n",
    "print(roll_types[:10])\n",
    "print(d20_rolls[:10])\n"
   ]
  },
  {
   "cell_type": "code",
   "execution_count": null,
   "metadata": {},
   "outputs": [],
   "source": [
    "from datetime import timedelta, datetime\n",
    "\n",
    "MIN_ROLLS = 20\n",
    "MAX_GAP = timedelta(hours=12)\n",
    "\n",
    "\n",
    "start_time = roll_timestamps[0]\n",
    "last_time = roll_timestamps[0]\n",
    "count = 1\n",
    "\n",
    "sessions = []\n",
    "\n",
    "session_idx = []\n",
    "\n",
    "\n",
    "for time in roll_timestamps:\n",
    "    session_idx.append(len(sessions))\n",
    "    if time - last_time > MAX_GAP:\n",
    "        if count > MIN_ROLLS:\n",
    "            sessions.append((start_time, last_time, count))\n",
    "            print(last_time-start_time, count)\n",
    "        count = 1\n",
    "        start_time = time\n",
    "    else:\n",
    "        count += 1\n",
    "    last_time = time\n",
    "if count > MIN_ROLLS:\n",
    "    sessions.append((start_time, last_time, count))\n",
    "    print(last_time-start_time, count)\n",
    "\n",
    "with open('data/sessions.txt', 'w') as fd:\n",
    "    for session in sessions:\n",
    "        fd.write(session[0].strftime('%Y-%m-%d\\n'))\n"
   ]
  },
  {
   "cell_type": "code",
   "execution_count": null,
   "metadata": {},
   "outputs": [],
   "source": [
    "roll_cats = [['skill'], ['strike'], ['saving'], ['initiative'], ['perception'], ['ability','Ability','abilities'], ['spell','cantrip']]\n",
    "\n",
    "\n",
    "def map_func(roll_type):\n",
    "    for vals in roll_cats:\n",
    "        for val in vals:\n",
    "            if val in roll_type:\n",
    "                return vals[0]\n",
    "    return 'other'\n",
    "\n",
    "roll_types_simple = map(map_func, roll_types)\n",
    "\n",
    "\n",
    "\n"
   ]
  },
  {
   "cell_type": "code",
   "execution_count": null,
   "metadata": {},
   "outputs": [],
   "source": [
    "import pandas as pd\n",
    "\n",
    "\n",
    "\n",
    "\n",
    "roll_df = pd.DataFrame({\n",
    "    'time': roll_timestamps,\n",
    "    'character': characters,\n",
    "    'session': session_idx,\n",
    "    'type': roll_types_simple,\n",
    "    'value': d20_rolls\n",
    "})\n",
    "\n",
    "roll_df = roll_df.dropna()\n",
    "\n",
    "roll_df.to_csv('data/rolls.zip', index=False)\n",
    "\n",
    "print(len(roll_df['character'].unique()))\n",
    "print(len(roll_df['type'].unique()))\n",
    "print(len(roll_df['session'].unique()))\n",
    "\n",
    "print(roll_df['character'].unique())\n"
   ]
  },
  {
   "cell_type": "code",
   "execution_count": null,
   "metadata": {},
   "outputs": [],
   "source": [
    "roll_df = pd.read_csv('data/rolls.zip', parse_dates=['time'])\n",
    "\n",
    "print(roll_df.info())\n"
   ]
  },
  {
   "cell_type": "code",
   "execution_count": null,
   "metadata": {},
   "outputs": [],
   "source": [
    "import plotly.express as px\n",
    "\n",
    "\n",
    "last_session_df = roll_df[roll_df['time'] > datetime(2021,4,17)]\n",
    "\n",
    "print(len(last_session_df))\n",
    "\n",
    "\n",
    "arden_df =  last_session_df[last_session_df['character'] == 'Arden']\n",
    "\n",
    "\n",
    "print(arden_df)\n",
    "\n",
    "fig = px.histogram(last_session_df, x=\"value\")\n",
    "fig.show()\n"
   ]
  },
  {
   "cell_type": "code",
   "execution_count": null,
   "metadata": {},
   "outputs": [],
   "source": [
    "counts = roll_df.groupby(['character']).count()['time'].sort_values()\n",
    "pd.set_option(\"display.max_rows\", None, \"display.max_columns\", None)\n",
    "print(counts)\n",
    "\n"
   ]
  },
  {
   "cell_type": "code",
   "execution_count": null,
   "metadata": {},
   "outputs": [],
   "source": [
    "counts = roll_df.groupby(['type']).count()['time'].sort_values()\n",
    "print(counts)\n"
   ]
  },
  {
   "cell_type": "code",
   "execution_count": null,
   "metadata": {},
   "outputs": [],
   "source": [
    "data = roll_df.groupby(['session','type']).count()['value'].reset_index(level=[0,1])\n",
    "print(data)\n"
   ]
  },
  {
   "cell_type": "code",
   "execution_count": null,
   "metadata": {},
   "outputs": [],
   "source": [
    "\n",
    "\n",
    "print(sum(roll_df['character'] == 'Raika '))\n",
    "\n"
   ]
  },
  {
   "cell_type": "code",
   "execution_count": null,
   "metadata": {},
   "outputs": [],
   "source": []
  }
 ]
}