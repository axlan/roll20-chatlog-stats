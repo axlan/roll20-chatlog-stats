{
 "metadata": {
  "language_info": {
   "codemirror_mode": {
    "name": "ipython",
    "version": 3
   },
   "file_extension": ".py",
   "mimetype": "text/x-python",
   "name": "python",
   "nbconvert_exporter": "python",
   "pygments_lexer": "ipython3",
   "version": "3.8.6-final"
  },
  "orig_nbformat": 2,
  "kernelspec": {
   "name": "python386jvsc74a57bd00683780d03ee1195a9e1ac19e401b8f6c3447ee82d0b15d335dacfb764b91f68",
   "display_name": "Python 3.8.6 64-bit"
  }
 },
 "nbformat": 4,
 "nbformat_minor": 2,
 "cells": [
  {
   "cell_type": "code",
   "execution_count": null,
   "metadata": {},
   "outputs": [],
   "source": [
    "from bs4 import BeautifulSoup\n",
    "\n",
    "# https://app.roll20.net/campaigns/chatarchive/8981579?p=1&onePage=true&hidewhispers=&hiderollresults=\n",
    "# save page\n",
    "\n",
    "# (pagenate https://app.roll20.net/campaigns/chatarchive/8981579?p=1 with cache?)\n",
    "# annoying data seems to come from graphql responses\n",
    "with open('data/Chat Log for Kingdom of Dust.html', mode='r', encoding=\"utf8\") as fd:\n",
    "    html_doc = fd.read()\n",
    "\n",
    "soup = BeautifulSoup(html_doc, 'html.parser')"
   ]
  },
  {
   "cell_type": "code",
   "execution_count": null,
   "metadata": {},
   "outputs": [],
   "source": [
    "\n",
    "messages = soup.find_all('div', 'message')\n",
    "\n",
    "print(len(messages))\n",
    "\n"
   ]
  },
  {
   "cell_type": "code",
   "execution_count": null,
   "metadata": {
    "tags": []
   },
   "outputs": [],
   "source": [
    "from dateutil.parser import parse\n",
    "\n",
    "current_time = None\n",
    "timestamps = []\n",
    "for message in messages:\n",
    "    tstamp = message.find(class_='tstamp')\n",
    "    if tstamp:\n",
    "        current_time = parse(tstamp.string)\n",
    "    timestamps.append(current_time)\n",
    "\n",
    "print(timestamps[-20:])"
   ]
  },
  {
   "cell_type": "code",
   "execution_count": null,
   "metadata": {},
   "outputs": [],
   "source": [
    "has_roll = []\n",
    "for message in messages:\n",
    "    has_roll.append(message.find(class_='inlinerollresult') is not None)\n",
    "\n",
    "print(len([i for i in has_roll if i ]))\n",
    "\n",
    "roll_timestamps = [timestamp for i, timestamp in zip(has_roll, timestamps) if i ]\n",
    "roll_msgs = [message for i, message, in zip(has_roll, messages) if i ]\n",
    "\n"
   ]
  },
  {
   "cell_type": "code",
   "execution_count": null,
   "metadata": {
    "tags": []
   },
   "outputs": [],
   "source": [
    "import re\n",
    "characters = []\n",
    "roll_types = []\n",
    "rolls = []\n",
    "d20_rolls = []\n",
    "\n",
    "roll_re = re.compile(r'\">([0-9]+)</span>')\n",
    "\n",
    "for message in roll_msgs:\n",
    "    \n",
    "    roll_group = message.find(class_='sheet-rolltemplate-rolls')\n",
    "\n",
    "    character = roll_group.find(class_='sheet-charactername').string\n",
    "    characters.append(character)\n",
    "    roll_type = roll_group.find(class_='sheet-template-header').get_text().strip().replace('\\n      ', ': ')\n",
    "    roll_types.append(roll_type)\n",
    "\n",
    "    this_rolls = []\n",
    "    d20_roll = None\n",
    "\n",
    "    for roll in roll_group.find_all('span', class_='inlinerollresult'):\n",
    "\n",
    "        if 'original-title' in roll.attrs:\n",
    "            roll_txt = roll['original-title']\n",
    "        else:\n",
    "            roll_txt = roll['title']\n",
    "        this_rolls.append(roll_txt)\n",
    "        if d20_roll is None and '1d20' in roll_txt:\n",
    "            d20_roll = int(roll_re.search(roll_txt).group(1))\n",
    "\n",
    "    rolls.append(this_rolls)\n",
    "    d20_rolls.append(d20_roll)\n",
    "\n",
    "print(characters[:10])\n",
    "print(roll_types[:10])\n",
    "print(d20_rolls[:10])\n"
   ]
  },
  {
   "cell_type": "code",
   "execution_count": null,
   "metadata": {},
   "outputs": [],
   "source": [
    "import pandas as pd\n",
    "\n",
    "roll_df = pd.DataFrame({\n",
    "    'time': roll_timestamps,\n",
    "    'character': characters,\n",
    "    'type': roll_types,\n",
    "    'value': d20_rolls\n",
    "})\n",
    "\n",
    "roll_df.to_csv('data/rolls.zip', index=False)\n",
    "\n",
    "print(len(roll_df['character'].unique()))\n",
    "print(len(roll_df['type'].unique()))\n",
    "\n",
    "print(roll_df['character'].unique())\n"
   ]
  },
  {
   "cell_type": "code",
   "execution_count": null,
   "metadata": {},
   "outputs": [],
   "source": [
    "roll_df = pd.read_csv('data/rolls.zip', parse_dates=['time'])\r\n",
    "\r\n",
    "print(roll_df.info())\r\n"
   ]
  },
  {
   "cell_type": "code",
   "execution_count": null,
   "metadata": {},
   "outputs": [],
   "source": [
    "import plotly.express as px\n",
    "\n",
    "\n",
    "last_session_df = roll_df[roll_df['time'] > datetime(2021,4,17)]\n",
    "\n",
    "print(len(last_session_df))\n",
    "\n",
    "\n",
    "arden_df =  last_session_df[last_session_df['character'] == 'Arden']\n",
    "\n",
    "\n",
    "print(arden_df)\n",
    "\n",
    "fig = px.histogram(last_session_df, x=\"value\")\n",
    "fig.show()\n"
   ]
  },
  {
   "cell_type": "code",
   "execution_count": null,
   "metadata": {},
   "outputs": [],
   "source": []
  }
 ]
}